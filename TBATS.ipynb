{
 "cells": [
  {
   "cell_type": "code",
   "execution_count": 2,
   "metadata": {},
   "outputs": [],
   "source": [
    "import pandas as pd\n",
    "import numpy as np\n",
    "import scipy as sp\n",
    "from Data import * \n",
    "from Model import * \n",
    "from statsmodels.tsa.arima.model import ARIMA\n",
    "import warnings\n",
    "warnings.filterwarnings('ignore')\n",
    "import pmdarima as pm\n",
    "import statsmodels.api as sm\n",
    "import matplotlib.pyplot as plt\n",
    "import matplotlib.dates as mdates\n",
    "from statsmodels.tsa.api import ExponentialSmoothing, SimpleExpSmoothing, Holt\n",
    "from sktime.performance_metrics.forecasting import MeanAbsolutePercentageError\n",
    "from prophet.diagnostics import cross_validation\n",
    "from prophet import Prophet\n",
    "import pmdarima as pm\n",
    "from pmdarima import pipeline\n",
    "from pmdarima.pipeline import Pipeline\n",
    "from pmdarima.preprocessing import BoxCoxEndogTransformer\n",
    "from sktime.forecasting.tbats import TBATS\n",
    "from sktime.forecasting.bats import BATS"
   ]
  },
  {
   "cell_type": "code",
   "execution_count": 3,
   "metadata": {},
   "outputs": [],
   "source": [
    "DAL = get_ETF_data('DAL', '2000-01-01', '2024-01-01')\n",
    "train_dal, val_dal, test_dal = split_time_series(DAL, 0.6,0.2)"
   ]
  },
  {
   "cell_type": "code",
   "execution_count": 4,
   "metadata": {},
   "outputs": [],
   "source": [
    "train_dal.index = pd.date_range(start=train_dal.index[0], periods=len(train_dal), freq='B')\n",
    "val_dal.index = pd.date_range(start=val_dal.index[0], periods=len(val_dal), freq='B')"
   ]
  },
  {
   "cell_type": "code",
   "execution_count": 5,
   "metadata": {},
   "outputs": [
    {
     "data": {
      "text/html": [
       "<style>#sk-95841fbe-f047-4857-b382-53b69d7cc42a {color: black;background-color: white;}#sk-95841fbe-f047-4857-b382-53b69d7cc42a pre{padding: 0;}#sk-95841fbe-f047-4857-b382-53b69d7cc42a div.sk-toggleable {background-color: white;}#sk-95841fbe-f047-4857-b382-53b69d7cc42a label.sk-toggleable__label {cursor: pointer;display: block;width: 100%;margin-bottom: 0;padding: 0.3em;box-sizing: border-box;text-align: center;}#sk-95841fbe-f047-4857-b382-53b69d7cc42a label.sk-toggleable__label-arrow:before {content: \"▸\";float: left;margin-right: 0.25em;color: #696969;}#sk-95841fbe-f047-4857-b382-53b69d7cc42a label.sk-toggleable__label-arrow:hover:before {color: black;}#sk-95841fbe-f047-4857-b382-53b69d7cc42a div.sk-estimator:hover label.sk-toggleable__label-arrow:before {color: black;}#sk-95841fbe-f047-4857-b382-53b69d7cc42a div.sk-toggleable__content {max-height: 0;max-width: 0;overflow: hidden;text-align: left;background-color: #f0f8ff;}#sk-95841fbe-f047-4857-b382-53b69d7cc42a div.sk-toggleable__content pre {margin: 0.2em;color: black;border-radius: 0.25em;background-color: #f0f8ff;}#sk-95841fbe-f047-4857-b382-53b69d7cc42a input.sk-toggleable__control:checked~div.sk-toggleable__content {max-height: 200px;max-width: 100%;overflow: auto;}#sk-95841fbe-f047-4857-b382-53b69d7cc42a input.sk-toggleable__control:checked~label.sk-toggleable__label-arrow:before {content: \"▾\";}#sk-95841fbe-f047-4857-b382-53b69d7cc42a div.sk-estimator input.sk-toggleable__control:checked~label.sk-toggleable__label {background-color: #d4ebff;}#sk-95841fbe-f047-4857-b382-53b69d7cc42a div.sk-label input.sk-toggleable__control:checked~label.sk-toggleable__label {background-color: #d4ebff;}#sk-95841fbe-f047-4857-b382-53b69d7cc42a input.sk-hidden--visually {border: 0;clip: rect(1px 1px 1px 1px);clip: rect(1px, 1px, 1px, 1px);height: 1px;margin: -1px;overflow: hidden;padding: 0;position: absolute;width: 1px;}#sk-95841fbe-f047-4857-b382-53b69d7cc42a div.sk-estimator {font-family: monospace;background-color: #f0f8ff;border: 1px dotted black;border-radius: 0.25em;box-sizing: border-box;margin-bottom: 0.5em;}#sk-95841fbe-f047-4857-b382-53b69d7cc42a div.sk-estimator:hover {background-color: #d4ebff;}#sk-95841fbe-f047-4857-b382-53b69d7cc42a div.sk-parallel-item::after {content: \"\";width: 100%;border-bottom: 1px solid gray;flex-grow: 1;}#sk-95841fbe-f047-4857-b382-53b69d7cc42a div.sk-label:hover label.sk-toggleable__label {background-color: #d4ebff;}#sk-95841fbe-f047-4857-b382-53b69d7cc42a div.sk-serial::before {content: \"\";position: absolute;border-left: 1px solid gray;box-sizing: border-box;top: 2em;bottom: 0;left: 50%;}#sk-95841fbe-f047-4857-b382-53b69d7cc42a div.sk-serial {display: flex;flex-direction: column;align-items: center;background-color: white;padding-right: 0.2em;padding-left: 0.2em;}#sk-95841fbe-f047-4857-b382-53b69d7cc42a div.sk-item {z-index: 1;}#sk-95841fbe-f047-4857-b382-53b69d7cc42a div.sk-parallel {display: flex;align-items: stretch;justify-content: center;background-color: white;}#sk-95841fbe-f047-4857-b382-53b69d7cc42a div.sk-parallel::before {content: \"\";position: absolute;border-left: 1px solid gray;box-sizing: border-box;top: 2em;bottom: 0;left: 50%;}#sk-95841fbe-f047-4857-b382-53b69d7cc42a div.sk-parallel-item {display: flex;flex-direction: column;position: relative;background-color: white;}#sk-95841fbe-f047-4857-b382-53b69d7cc42a div.sk-parallel-item:first-child::after {align-self: flex-end;width: 50%;}#sk-95841fbe-f047-4857-b382-53b69d7cc42a div.sk-parallel-item:last-child::after {align-self: flex-start;width: 50%;}#sk-95841fbe-f047-4857-b382-53b69d7cc42a div.sk-parallel-item:only-child::after {width: 0;}#sk-95841fbe-f047-4857-b382-53b69d7cc42a div.sk-dashed-wrapped {border: 1px dashed gray;margin: 0 0.4em 0.5em 0.4em;box-sizing: border-box;padding-bottom: 0.4em;background-color: white;position: relative;}#sk-95841fbe-f047-4857-b382-53b69d7cc42a div.sk-label label {font-family: monospace;font-weight: bold;background-color: white;display: inline-block;line-height: 1.2em;}#sk-95841fbe-f047-4857-b382-53b69d7cc42a div.sk-label-container {position: relative;z-index: 2;text-align: center;}#sk-95841fbe-f047-4857-b382-53b69d7cc42a div.sk-container {/* jupyter's `normalize.less` sets `[hidden] { display: none; }` but bootstrap.min.css set `[hidden] { display: none !important; }` so we also need the `!important` here to be able to override the default hidden behavior on the sphinx rendered scikit-learn.org. See: https://github.com/scikit-learn/scikit-learn/issues/21755 */display: inline-block !important;position: relative;}#sk-95841fbe-f047-4857-b382-53b69d7cc42a div.sk-text-repr-fallback {display: none;}</style><div id='sk-95841fbe-f047-4857-b382-53b69d7cc42a' class=\"sk-top-container\"><div class=\"sk-text-repr-fallback\"><pre>BATS(sp=12, use_box_cox=True, use_trend=True)</pre><b>Please rerun this cell to show the HTML repr or trust the notebook.</b></div><div class=\"sk-container\" hidden><div class='sk-item'><div class=\"sk-estimator sk-toggleable\"><input class=\"sk-toggleable__control sk-hidden--visually\" id=UUID('c0299365-6cc9-49a5-8a13-2fa3a30a2b47') type=\"checkbox\" checked><label for=UUID('c0299365-6cc9-49a5-8a13-2fa3a30a2b47') class='sk-toggleable__label sk-toggleable__label-arrow'>BATS</label><div class=\"sk-toggleable__content\"><pre>BATS(sp=12, use_box_cox=True, use_trend=True)</pre></div></div></div></div></div>"
      ],
      "text/plain": [
       "BATS(sp=12, use_box_cox=True, use_trend=True)"
      ]
     },
     "execution_count": 5,
     "metadata": {},
     "output_type": "execute_result"
    }
   ],
   "source": [
    "bats_forecaster = BATS(\n",
    "    use_box_cox=True,\n",
    "    box_cox_bounds=(0, 1),\n",
    "    use_trend=True,\n",
    "    use_damped_trend=None,\n",
    "    sp=12,\n",
    "    use_arma_errors=True,\n",
    "    show_warnings=True,\n",
    "    n_jobs=None,\n",
    "    multiprocessing_start_method='spawn',\n",
    "    context=None,\n",
    "\n",
    ")\n",
    "\n",
    "bats_forecaster.fit(train_dal)\n"
   ]
  },
  {
   "cell_type": "code",
   "execution_count": 7,
   "metadata": {},
   "outputs": [],
   "source": [
    "fh_list = list(range(1,len(val_dal)+1))"
   ]
  },
  {
   "cell_type": "code",
   "execution_count": 8,
   "metadata": {},
   "outputs": [
    {
     "data": {
      "text/plain": [
       "list"
      ]
     },
     "execution_count": 8,
     "metadata": {},
     "output_type": "execute_result"
    }
   ],
   "source": [
    "type(fh_list)"
   ]
  },
  {
   "cell_type": "code",
   "execution_count": 9,
   "metadata": {},
   "outputs": [],
   "source": [
    "ypred_bats = bats_forecaster.predict(fh= fh_list)"
   ]
  },
  {
   "cell_type": "code",
   "execution_count": 13,
   "metadata": {},
   "outputs": [
    {
     "data": {
      "text/html": [
       "<div>\n",
       "<style scoped>\n",
       "    .dataframe tbody tr th:only-of-type {\n",
       "        vertical-align: middle;\n",
       "    }\n",
       "\n",
       "    .dataframe tbody tr th {\n",
       "        vertical-align: top;\n",
       "    }\n",
       "\n",
       "    .dataframe thead th {\n",
       "        text-align: right;\n",
       "    }\n",
       "</style>\n",
       "<table border=\"1\" class=\"dataframe\">\n",
       "  <thead>\n",
       "    <tr style=\"text-align: right;\">\n",
       "      <th></th>\n",
       "      <th>adj_close</th>\n",
       "    </tr>\n",
       "  </thead>\n",
       "  <tbody>\n",
       "    <tr>\n",
       "      <th>2016-12-26</th>\n",
       "      <td>41.785923</td>\n",
       "    </tr>\n",
       "    <tr>\n",
       "      <th>2016-12-27</th>\n",
       "      <td>41.767786</td>\n",
       "    </tr>\n",
       "    <tr>\n",
       "      <th>2016-12-28</th>\n",
       "      <td>41.661247</td>\n",
       "    </tr>\n",
       "    <tr>\n",
       "      <th>2016-12-29</th>\n",
       "      <td>41.666468</td>\n",
       "    </tr>\n",
       "    <tr>\n",
       "      <th>2016-12-30</th>\n",
       "      <td>41.693820</td>\n",
       "    </tr>\n",
       "    <tr>\n",
       "      <th>...</th>\n",
       "      <td>...</td>\n",
       "    </tr>\n",
       "    <tr>\n",
       "      <th>2020-03-06</th>\n",
       "      <td>41.643811</td>\n",
       "    </tr>\n",
       "    <tr>\n",
       "      <th>2020-03-09</th>\n",
       "      <td>41.566829</td>\n",
       "    </tr>\n",
       "    <tr>\n",
       "      <th>2020-03-10</th>\n",
       "      <td>41.635279</td>\n",
       "    </tr>\n",
       "    <tr>\n",
       "      <th>2020-03-11</th>\n",
       "      <td>41.729705</td>\n",
       "    </tr>\n",
       "    <tr>\n",
       "      <th>2020-03-12</th>\n",
       "      <td>41.656175</td>\n",
       "    </tr>\n",
       "  </tbody>\n",
       "</table>\n",
       "<p>839 rows × 1 columns</p>\n",
       "</div>"
      ],
      "text/plain": [
       "            adj_close\n",
       "2016-12-26  41.785923\n",
       "2016-12-27  41.767786\n",
       "2016-12-28  41.661247\n",
       "2016-12-29  41.666468\n",
       "2016-12-30  41.693820\n",
       "...               ...\n",
       "2020-03-06  41.643811\n",
       "2020-03-09  41.566829\n",
       "2020-03-10  41.635279\n",
       "2020-03-11  41.729705\n",
       "2020-03-12  41.656175\n",
       "\n",
       "[839 rows x 1 columns]"
      ]
     },
     "execution_count": 13,
     "metadata": {},
     "output_type": "execute_result"
    }
   ],
   "source": [
    "ypred_bats"
   ]
  },
  {
   "cell_type": "code",
   "execution_count": 16,
   "metadata": {},
   "outputs": [
    {
     "data": {
      "text/html": [
       "<div>\n",
       "<style scoped>\n",
       "    .dataframe tbody tr th:only-of-type {\n",
       "        vertical-align: middle;\n",
       "    }\n",
       "\n",
       "    .dataframe tbody tr th {\n",
       "        vertical-align: top;\n",
       "    }\n",
       "\n",
       "    .dataframe thead th {\n",
       "        text-align: right;\n",
       "    }\n",
       "</style>\n",
       "<table border=\"1\" class=\"dataframe\">\n",
       "  <thead>\n",
       "    <tr style=\"text-align: right;\">\n",
       "      <th></th>\n",
       "      <th>MAE</th>\n",
       "      <th>MSE</th>\n",
       "      <th>MAPE (%)</th>\n",
       "      <th>sMAPE (%)</th>\n",
       "    </tr>\n",
       "  </thead>\n",
       "  <tbody>\n",
       "    <tr>\n",
       "      <th>0</th>\n",
       "      <td>10.624843</td>\n",
       "      <td>133.993855</td>\n",
       "      <td>24.632423</td>\n",
       "      <td>24.307649</td>\n",
       "    </tr>\n",
       "  </tbody>\n",
       "</table>\n",
       "</div>"
      ],
      "text/plain": [
       "         MAE         MSE   MAPE (%)  sMAPE (%)\n",
       "0  10.624843  133.993855  24.632423  24.307649"
      ]
     },
     "execution_count": 16,
     "metadata": {},
     "output_type": "execute_result"
    }
   ],
   "source": [
    "evaluate_forecast(val_dal['adj_close'],ypred_bats['adj_close'])"
   ]
  }
 ],
 "metadata": {
  "kernelspec": {
   "display_name": "base",
   "language": "python",
   "name": "python3"
  },
  "language_info": {
   "codemirror_mode": {
    "name": "ipython",
    "version": 3
   },
   "file_extension": ".py",
   "mimetype": "text/x-python",
   "name": "python",
   "nbconvert_exporter": "python",
   "pygments_lexer": "ipython3",
   "version": "3.11.3"
  }
 },
 "nbformat": 4,
 "nbformat_minor": 2
}
