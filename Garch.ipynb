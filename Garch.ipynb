{
 "cells": [
  {
   "cell_type": "code",
   "execution_count": 8,
   "id": "7ba254ee-a0a0-4974-b972-fdb77b952869",
   "metadata": {},
   "outputs": [],
   "source": [
    "from arch import arch_model\n",
    "import pandas as pd\n",
    "from pandas.plotting import autocorrelation_plot\n",
    "from sktime.forecasting.all import temporal_train_test_split\n",
    "from sktime.forecasting.all import ExponentialSmoothing\n",
    "from sktime.performance_metrics.forecasting import MeanAbsolutePercentageError\n",
    "from sktime.forecasting.all import ForecastingHorizon\n",
    "from sklearn.metrics import mean_squared_error, mean_absolute_error\n",
    "from copy import deepcopy\n",
    "import matplotlib.pyplot as plt\n",
    "import numpy as np\n",
    "import random\n",
    "\n",
    "import warnings\n",
    "warnings.filterwarnings('ignore')"
   ]
  },
  {
   "cell_type": "code",
   "execution_count": 3,
   "id": "4a83dcf1-201e-4c22-8981-a83459134c0d",
   "metadata": {},
   "outputs": [],
   "source": [
    "train = pd.read_csv('train_msft.csv',index_col = 0)\n",
    "train.index = pd.to_datetime(train.index)\n",
    "\n",
    "val = pd.read_csv('val_msft.csv',index_col = 0)\n",
    "val.index = pd.to_datetime(val.index)\n",
    "\n",
    "test = pd.read_csv('test_msft.csv',index_col = 0)\n",
    "test.index = pd.to_datetime(test.index)"
   ]
  },
  {
   "cell_type": "markdown",
   "id": "e9a95d23-e066-4dd7-aff6-d4ed1cf45038",
   "metadata": {},
   "source": [
    "# select model on train based on AIC"
   ]
  },
  {
   "cell_type": "code",
   "execution_count": 15,
   "id": "6e50de1a-0adc-4f7d-a259-7c8ac35ce478",
   "metadata": {},
   "outputs": [
    {
     "data": {
      "text/plain": [
       "(1, 5)"
      ]
     },
     "execution_count": 15,
     "metadata": {},
     "output_type": "execute_result"
    }
   ],
   "source": [
    "def fit_garch_model(train_data, p, q):\n",
    "    model = arch_model(train_data, vol='Garch', p=p, q=q)\n",
    "    model_fit = model.fit(disp='off')\n",
    "    return model_fit.aic, model_fit\n",
    "\n",
    "# Grid search for best GARCH model based on AIC\n",
    "best_aic = float('inf')\n",
    "best_model = None\n",
    "best_pq = None\n",
    "\n",
    "for p in range(1, 6):\n",
    "    for q in range(1, 6):\n",
    "        aic, model_fit = fit_garch_model(train['adj_close'], p, q)\n",
    "        if aic < best_aic:\n",
    "            best_aic = aic\n",
    "            best_model = model_fit\n",
    "            best_pq = (p, q)\n",
    "best_pq"
   ]
  },
  {
   "cell_type": "markdown",
   "id": "c05de918-4dd3-47e2-b38e-544b52118283",
   "metadata": {},
   "source": [
    "#  Fit best model on validation data"
   ]
  },
  {
   "cell_type": "code",
   "execution_count": 61,
   "id": "a9645a80-4be0-41e5-a62f-4b791276e5c9",
   "metadata": {},
   "outputs": [],
   "source": [
    "forecast = best_model.forecast(horizon=len(val))\n",
    "forecast = pd.Series(forecast.variance.values[-1,:], index=val.index)"
   ]
  },
  {
   "cell_type": "code",
   "execution_count": 59,
   "id": "59d17b4e-ab43-49ac-be52-6ffa24417125",
   "metadata": {},
   "outputs": [],
   "source": [
    "def get_evaluation_simple(forecast,test):\n",
    "    \n",
    "    # Calculate the error metrics\n",
    "    mae = mean_absolute_error(test, forecast)\n",
    "    mse = mean_squared_error(test, forecast)\n",
    "    mape = np.mean(np.abs((test - forecast) / test))\n",
    "    \n",
    "    # Calculate sMAPE\n",
    "    smape = np.mean(2*np.abs(forecast - test) / ((np.abs(test) + np.abs(forecast))))\n",
    "\n",
    "    df_metrics = pd.DataFrame({\n",
    "        'MAE': [mae],\n",
    "        'MSE': [mse],\n",
    "        'MAPE': [mape],\n",
    "        'sMAPE': [smape]\n",
    "    })\n",
    "\n",
    "    return df_metrics"
   ]
  },
  {
   "cell_type": "code",
   "execution_count": 60,
   "id": "080ed7b8-dccf-40b5-84ca-90a26698f96c",
   "metadata": {},
   "outputs": [
    {
     "data": {
      "text/html": [
       "<div>\n",
       "<style scoped>\n",
       "    .dataframe tbody tr th:only-of-type {\n",
       "        vertical-align: middle;\n",
       "    }\n",
       "\n",
       "    .dataframe tbody tr th {\n",
       "        vertical-align: top;\n",
       "    }\n",
       "\n",
       "    .dataframe thead th {\n",
       "        text-align: right;\n",
       "    }\n",
       "</style>\n",
       "<table border=\"1\" class=\"dataframe\">\n",
       "  <thead>\n",
       "    <tr style=\"text-align: right;\">\n",
       "      <th></th>\n",
       "      <th>MAE</th>\n",
       "      <th>MSE</th>\n",
       "      <th>MAPE</th>\n",
       "      <th>sMAPE</th>\n",
       "    </tr>\n",
       "  </thead>\n",
       "  <tbody>\n",
       "    <tr>\n",
       "      <th>0</th>\n",
       "      <td>187.654448</td>\n",
       "      <td>35374.186366</td>\n",
       "      <td>3.505977</td>\n",
       "      <td>1.227595</td>\n",
       "    </tr>\n",
       "  </tbody>\n",
       "</table>\n",
       "</div>"
      ],
      "text/plain": [
       "          MAE           MSE      MAPE     sMAPE\n",
       "0  187.654448  35374.186366  3.505977  1.227595"
      ]
     },
     "execution_count": 60,
     "metadata": {},
     "output_type": "execute_result"
    }
   ],
   "source": [
    "get_evaluation_simple(forecast,val['adj_close'])"
   ]
  }
 ],
 "metadata": {
  "kernelspec": {
   "display_name": "Python 3 (ipykernel)",
   "language": "python",
   "name": "python3"
  },
  "language_info": {
   "codemirror_mode": {
    "name": "ipython",
    "version": 3
   },
   "file_extension": ".py",
   "mimetype": "text/x-python",
   "name": "python",
   "nbconvert_exporter": "python",
   "pygments_lexer": "ipython3",
   "version": "3.11.7"
  }
 },
 "nbformat": 4,
 "nbformat_minor": 5
}
