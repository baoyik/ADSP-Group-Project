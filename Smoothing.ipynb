{
 "cells": [
  {
   "cell_type": "code",
   "execution_count": 66,
   "id": "22790708-97c5-4acc-9e3d-509449ef44dc",
   "metadata": {},
   "outputs": [],
   "source": [
    "import pandas as pd\n",
    "from pandas.plotting import autocorrelation_plot\n",
    "from sktime.forecasting.all import temporal_train_test_split\n",
    "from sktime.forecasting.all import ExponentialSmoothing\n",
    "from sktime.performance_metrics.forecasting import MeanAbsolutePercentageError\n",
    "from sktime.forecasting.all import ForecastingHorizon\n",
    "from sklearn.metrics import mean_squared_error, mean_absolute_error\n",
    "from statsmodels.tsa.api import ExponentialSmoothing, SimpleExpSmoothing, Holt\n",
    "from copy import deepcopy\n",
    "import matplotlib.pyplot as plt\n",
    "import numpy as np\n",
    "import random\n",
    "\n",
    "import warnings\n",
    "warnings.filterwarnings('ignore')"
   ]
  },
  {
   "cell_type": "code",
   "execution_count": 38,
   "id": "ff18856f-8009-4631-bef8-bddee1cedc03",
   "metadata": {},
   "outputs": [],
   "source": [
    "train = pd.read_csv('train_msft.csv',index_col = 0)\n",
    "train.index = pd.to_datetime(train.index)\n",
    "train.index = pd.core.indexes.period.PeriodIndex(train.index.tolist(), freq='b')\n",
    "\n",
    "val = pd.read_csv('val_msft.csv',index_col = 0)\n",
    "val.index = pd.to_datetime(val.index)\n",
    "\n",
    "test = pd.read_csv('test_msft.csv',index_col = 0)\n",
    "test.index = pd.to_datetime(test.index)"
   ]
  },
  {
   "cell_type": "code",
   "execution_count": 39,
   "id": "2c736270-6743-425e-b149-fb7fcb1f69f2",
   "metadata": {},
   "outputs": [
    {
     "data": {
      "text/plain": [
       "adj_close    0\n",
       "dtype: int64"
      ]
     },
     "execution_count": 39,
     "metadata": {},
     "output_type": "execute_result"
    }
   ],
   "source": [
    "train.isna().sum()\n",
    "val.isna().sum()\n",
    "test.isna().sum()"
   ]
  },
  {
   "cell_type": "markdown",
   "id": "629e5c55-b057-42f5-b610-c1e04fd83357",
   "metadata": {},
   "source": [
    "## fit model"
   ]
  },
  {
   "cell_type": "code",
   "execution_count": 40,
   "id": "c9bb37f0-c2d0-4348-89e2-e0c9d19fe67a",
   "metadata": {},
   "outputs": [],
   "source": [
    "def fit_smoothing(df,method='mul',period=12):\n",
    "    \n",
    "    fit = ExponentialSmoothing(df,\n",
    "                            trend=method,\n",
    "                            seasonal_periods=period, \n",
    "                            seasonal=method\n",
    "                           ).fit()\n",
    "    return fit"
   ]
  },
  {
   "cell_type": "code",
   "execution_count": 51,
   "id": "2c3bee51-69aa-47df-bd89-9398620c6450",
   "metadata": {},
   "outputs": [],
   "source": [
    "model = fit_smoothing(train)\n",
    "y_test = val\n",
    "y_pred = model.forecast(len(y_test))\n",
    "y_pred.index = y_test.index"
   ]
  },
  {
   "cell_type": "markdown",
   "id": "42d676c1-e2a8-49f1-8760-5dc91b343837",
   "metadata": {},
   "source": [
    "## tune parameter"
   ]
  },
  {
   "cell_type": "code",
   "execution_count": 62,
   "id": "ac204943-6a21-4c7e-add7-c90e5e6ae182",
   "metadata": {},
   "outputs": [],
   "source": [
    "def evaluation(method_fit,y_test):\n",
    "    # Fit the model, with selected alpha value\n",
    "    fit = method_fit\n",
    "    # Forecast over testing period\n",
    "    y_pred = fit.forecast(len(y_test))\n",
    "    y_pred.index = y_test.index\n",
    "    \n",
    "    # Calculate smape of test set performance\n",
    "    mae = mean_absolute_error(y_test, y_pred)\n",
    "    mse = mean_squared_error(y_test, y_pred)\n",
    "    mape = np.mean(np.abs((y_test - y_pred) / y_test))\n",
    "    smape = np.mean(2*np.abs(y_pred - y_test) / ((np.abs(y_test) + np.abs(y_pred))))\n",
    "    return [mae,mse,mape,smape]"
   ]
  },
  {
   "cell_type": "code",
   "execution_count": 81,
   "id": "4ebab7c3-cc60-4806-9124-d2fbd2e238fd",
   "metadata": {},
   "outputs": [],
   "source": [
    "def tune_param(train,val,methods=['add','mul'],periods=[4,12,24,36]):\n",
    "    result = []\n",
    "    \n",
    "    for method in methods:\n",
    "        for period in periods:\n",
    "            model = fit_smoothing(train,method,period)\n",
    "            evaluation_i = evaluation(model,val)\n",
    "\n",
    "            result_i = pd.Series([method,period]+evaluation_i)\n",
    "            result.append(result_i)\n",
    "\n",
    "    result = pd.concat(result,axis=1).T\n",
    "    result.columns = ['methods','periods','mae','mse','mape','smape']\n",
    "\n",
    "    return result"
   ]
  },
  {
   "cell_type": "code",
   "execution_count": 82,
   "id": "00ed862e-74c7-4ca0-a34e-1c8ad2a8bff6",
   "metadata": {},
   "outputs": [
    {
     "data": {
      "text/html": [
       "<div>\n",
       "<style scoped>\n",
       "    .dataframe tbody tr th:only-of-type {\n",
       "        vertical-align: middle;\n",
       "    }\n",
       "\n",
       "    .dataframe tbody tr th {\n",
       "        vertical-align: top;\n",
       "    }\n",
       "\n",
       "    .dataframe thead th {\n",
       "        text-align: right;\n",
       "    }\n",
       "</style>\n",
       "<table border=\"1\" class=\"dataframe\">\n",
       "  <thead>\n",
       "    <tr style=\"text-align: right;\">\n",
       "      <th></th>\n",
       "      <th>methods</th>\n",
       "      <th>periods</th>\n",
       "      <th>mae</th>\n",
       "      <th>mse</th>\n",
       "      <th>mape</th>\n",
       "      <th>smape</th>\n",
       "    </tr>\n",
       "  </thead>\n",
       "  <tbody>\n",
       "    <tr>\n",
       "      <th>0</th>\n",
       "      <td>add</td>\n",
       "      <td>4</td>\n",
       "      <td>27.890538</td>\n",
       "      <td>1307.762245</td>\n",
       "      <td>0.378223</td>\n",
       "      <td>0.507648</td>\n",
       "    </tr>\n",
       "    <tr>\n",
       "      <th>1</th>\n",
       "      <td>add</td>\n",
       "      <td>12</td>\n",
       "      <td>27.835394</td>\n",
       "      <td>1304.497268</td>\n",
       "      <td>0.37724</td>\n",
       "      <td>0.50618</td>\n",
       "    </tr>\n",
       "    <tr>\n",
       "      <th>2</th>\n",
       "      <td>add</td>\n",
       "      <td>24</td>\n",
       "      <td>27.805623</td>\n",
       "      <td>1302.61346</td>\n",
       "      <td>0.376724</td>\n",
       "      <td>0.505395</td>\n",
       "    </tr>\n",
       "    <tr>\n",
       "      <th>3</th>\n",
       "      <td>add</td>\n",
       "      <td>36</td>\n",
       "      <td>27.894793</td>\n",
       "      <td>1308.067824</td>\n",
       "      <td>0.378293</td>\n",
       "      <td>0.50776</td>\n",
       "    </tr>\n",
       "    <tr>\n",
       "      <th>4</th>\n",
       "      <td>mul</td>\n",
       "      <td>4</td>\n",
       "      <td>8.647014</td>\n",
       "      <td>168.240392</td>\n",
       "      <td>0.11334</td>\n",
       "      <td>0.121621</td>\n",
       "    </tr>\n",
       "    <tr>\n",
       "      <th>5</th>\n",
       "      <td>mul</td>\n",
       "      <td>12</td>\n",
       "      <td>8.410525</td>\n",
       "      <td>157.730839</td>\n",
       "      <td>0.111406</td>\n",
       "      <td>0.118721</td>\n",
       "    </tr>\n",
       "    <tr>\n",
       "      <th>6</th>\n",
       "      <td>mul</td>\n",
       "      <td>24</td>\n",
       "      <td>8.349203</td>\n",
       "      <td>154.94908</td>\n",
       "      <td>0.110979</td>\n",
       "      <td>0.118021</td>\n",
       "    </tr>\n",
       "    <tr>\n",
       "      <th>7</th>\n",
       "      <td>mul</td>\n",
       "      <td>36</td>\n",
       "      <td>8.568744</td>\n",
       "      <td>165.238878</td>\n",
       "      <td>0.112394</td>\n",
       "      <td>0.120479</td>\n",
       "    </tr>\n",
       "  </tbody>\n",
       "</table>\n",
       "</div>"
      ],
      "text/plain": [
       "  methods periods        mae          mse      mape     smape\n",
       "0     add       4  27.890538  1307.762245  0.378223  0.507648\n",
       "1     add      12  27.835394  1304.497268   0.37724   0.50618\n",
       "2     add      24  27.805623   1302.61346  0.376724  0.505395\n",
       "3     add      36  27.894793  1308.067824  0.378293   0.50776\n",
       "4     mul       4   8.647014   168.240392   0.11334  0.121621\n",
       "5     mul      12   8.410525   157.730839  0.111406  0.118721\n",
       "6     mul      24   8.349203    154.94908  0.110979  0.118021\n",
       "7     mul      36   8.568744   165.238878  0.112394  0.120479"
      ]
     },
     "execution_count": 82,
     "metadata": {},
     "output_type": "execute_result"
    }
   ],
   "source": [
    "result = tune_param(train,val['adj_close'],methods=['add','mul'],periods=[4,12,24,36])\n",
    "result"
   ]
  },
  {
   "cell_type": "code",
   "execution_count": 84,
   "id": "8714d674-211e-4b14-9973-3d8cc7cf769d",
   "metadata": {},
   "outputs": [
    {
     "data": {
      "text/plain": [
       "['mul', 24]"
      ]
     },
     "execution_count": 84,
     "metadata": {},
     "output_type": "execute_result"
    }
   ],
   "source": [
    "best_param = result.loc[result['smape'].idxmin(), ['methods', 'periods']].tolist()\n",
    "best_param "
   ]
  }
 ],
 "metadata": {
  "kernelspec": {
   "display_name": "Python 3 (ipykernel)",
   "language": "python",
   "name": "python3"
  },
  "language_info": {
   "codemirror_mode": {
    "name": "ipython",
    "version": 3
   },
   "file_extension": ".py",
   "mimetype": "text/x-python",
   "name": "python",
   "nbconvert_exporter": "python",
   "pygments_lexer": "ipython3",
   "version": "3.11.7"
  }
 },
 "nbformat": 4,
 "nbformat_minor": 5
}
