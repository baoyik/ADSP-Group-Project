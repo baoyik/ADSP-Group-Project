{
 "cells": [
  {
   "cell_type": "code",
   "execution_count": 14,
   "id": "8c0c99f7",
   "metadata": {},
   "outputs": [],
   "source": [
    "import pandas as pd\n",
    "import numpy as np"
   ]
  },
  {
   "cell_type": "code",
   "execution_count": 10,
   "id": "6f524026",
   "metadata": {},
   "outputs": [
    {
     "data": {
      "text/html": [
       "<div>\n",
       "<style scoped>\n",
       "    .dataframe tbody tr th:only-of-type {\n",
       "        vertical-align: middle;\n",
       "    }\n",
       "\n",
       "    .dataframe tbody tr th {\n",
       "        vertical-align: top;\n",
       "    }\n",
       "\n",
       "    .dataframe thead th {\n",
       "        text-align: right;\n",
       "    }\n",
       "</style>\n",
       "<table border=\"1\" class=\"dataframe\">\n",
       "  <thead>\n",
       "    <tr style=\"text-align: right;\">\n",
       "      <th></th>\n",
       "      <th>2021-03-17 00:00:00</th>\n",
       "      <th>2021-03-18 00:00:00</th>\n",
       "      <th>2021-03-19 00:00:00</th>\n",
       "      <th>2021-03-22 00:00:00</th>\n",
       "      <th>2021-03-23 00:00:00</th>\n",
       "      <th>2021-03-24 00:00:00</th>\n",
       "      <th>2021-03-25 00:00:00</th>\n",
       "      <th>2021-03-26 00:00:00</th>\n",
       "      <th>2021-03-29 00:00:00</th>\n",
       "      <th>2021-03-30 00:00:00</th>\n",
       "      <th>...</th>\n",
       "      <th>2023-12-18 00:00:00</th>\n",
       "      <th>2023-12-19 00:00:00</th>\n",
       "      <th>2023-12-20 00:00:00</th>\n",
       "      <th>2023-12-21 00:00:00</th>\n",
       "      <th>2023-12-22 00:00:00</th>\n",
       "      <th>2023-12-26 00:00:00</th>\n",
       "      <th>2023-12-27 00:00:00</th>\n",
       "      <th>2023-12-28 00:00:00</th>\n",
       "      <th>2023-12-29 00:00:00</th>\n",
       "      <th>label</th>\n",
       "    </tr>\n",
       "  </thead>\n",
       "  <tbody>\n",
       "    <tr>\n",
       "      <th>0</th>\n",
       "      <td>62.450000</td>\n",
       "      <td>60.820000</td>\n",
       "      <td>60.770000</td>\n",
       "      <td>58.330000</td>\n",
       "      <td>54.360000</td>\n",
       "      <td>53.83000</td>\n",
       "      <td>56.050000</td>\n",
       "      <td>56.830000</td>\n",
       "      <td>56.200000</td>\n",
       "      <td>58.210000</td>\n",
       "      <td>...</td>\n",
       "      <td>42.330000</td>\n",
       "      <td>42.420000</td>\n",
       "      <td>41.180000</td>\n",
       "      <td>42.580000</td>\n",
       "      <td>42.550000</td>\n",
       "      <td>42.080000</td>\n",
       "      <td>41.730000</td>\n",
       "      <td>41.970000</td>\n",
       "      <td>41.260000</td>\n",
       "      <td>1</td>\n",
       "    </tr>\n",
       "    <tr>\n",
       "      <th>1</th>\n",
       "      <td>25.160000</td>\n",
       "      <td>24.700000</td>\n",
       "      <td>24.970000</td>\n",
       "      <td>23.830000</td>\n",
       "      <td>22.270000</td>\n",
       "      <td>21.81000</td>\n",
       "      <td>22.770000</td>\n",
       "      <td>22.930000</td>\n",
       "      <td>22.910000</td>\n",
       "      <td>24.120000</td>\n",
       "      <td>...</td>\n",
       "      <td>14.240000</td>\n",
       "      <td>14.300000</td>\n",
       "      <td>13.980000</td>\n",
       "      <td>14.350000</td>\n",
       "      <td>14.310000</td>\n",
       "      <td>14.110000</td>\n",
       "      <td>13.990000</td>\n",
       "      <td>13.980000</td>\n",
       "      <td>13.740000</td>\n",
       "      <td>1</td>\n",
       "    </tr>\n",
       "    <tr>\n",
       "      <th>2</th>\n",
       "      <td>73.200000</td>\n",
       "      <td>70.590000</td>\n",
       "      <td>70.780000</td>\n",
       "      <td>68.560000</td>\n",
       "      <td>65.660000</td>\n",
       "      <td>65.42000</td>\n",
       "      <td>67.750000</td>\n",
       "      <td>68.320000</td>\n",
       "      <td>67.500000</td>\n",
       "      <td>69.940000</td>\n",
       "      <td>...</td>\n",
       "      <td>39.270000</td>\n",
       "      <td>40.200000</td>\n",
       "      <td>40.090000</td>\n",
       "      <td>40.590000</td>\n",
       "      <td>40.680000</td>\n",
       "      <td>40.160000</td>\n",
       "      <td>39.670000</td>\n",
       "      <td>39.920000</td>\n",
       "      <td>39.070000</td>\n",
       "      <td>1</td>\n",
       "    </tr>\n",
       "    <tr>\n",
       "      <th>3</th>\n",
       "      <td>21.180000</td>\n",
       "      <td>20.700000</td>\n",
       "      <td>21.000000</td>\n",
       "      <td>19.200000</td>\n",
       "      <td>19.250000</td>\n",
       "      <td>18.79000</td>\n",
       "      <td>19.640000</td>\n",
       "      <td>19.690000</td>\n",
       "      <td>19.590000</td>\n",
       "      <td>20.570000</td>\n",
       "      <td>...</td>\n",
       "      <td>5.620000</td>\n",
       "      <td>5.710000</td>\n",
       "      <td>5.620000</td>\n",
       "      <td>5.730000</td>\n",
       "      <td>5.760000</td>\n",
       "      <td>5.730000</td>\n",
       "      <td>5.710000</td>\n",
       "      <td>5.780000</td>\n",
       "      <td>5.550000</td>\n",
       "      <td>1</td>\n",
       "    </tr>\n",
       "    <tr>\n",
       "      <th>4</th>\n",
       "      <td>49.977901</td>\n",
       "      <td>48.729444</td>\n",
       "      <td>48.551093</td>\n",
       "      <td>47.530529</td>\n",
       "      <td>45.221875</td>\n",
       "      <td>45.19215</td>\n",
       "      <td>46.579324</td>\n",
       "      <td>47.223369</td>\n",
       "      <td>46.886484</td>\n",
       "      <td>48.452009</td>\n",
       "      <td>...</td>\n",
       "      <td>41.004149</td>\n",
       "      <td>40.974278</td>\n",
       "      <td>40.167736</td>\n",
       "      <td>40.944406</td>\n",
       "      <td>40.954363</td>\n",
       "      <td>40.585943</td>\n",
       "      <td>40.416669</td>\n",
       "      <td>40.456498</td>\n",
       "      <td>40.058206</td>\n",
       "      <td>1</td>\n",
       "    </tr>\n",
       "  </tbody>\n",
       "</table>\n",
       "<p>5 rows × 704 columns</p>\n",
       "</div>"
      ],
      "text/plain": [
       "   2021-03-17 00:00:00  2021-03-18 00:00:00  2021-03-19 00:00:00  \\\n",
       "0            62.450000            60.820000            60.770000   \n",
       "1            25.160000            24.700000            24.970000   \n",
       "2            73.200000            70.590000            70.780000   \n",
       "3            21.180000            20.700000            21.000000   \n",
       "4            49.977901            48.729444            48.551093   \n",
       "\n",
       "   2021-03-22 00:00:00  2021-03-23 00:00:00  2021-03-24 00:00:00  \\\n",
       "0            58.330000            54.360000             53.83000   \n",
       "1            23.830000            22.270000             21.81000   \n",
       "2            68.560000            65.660000             65.42000   \n",
       "3            19.200000            19.250000             18.79000   \n",
       "4            47.530529            45.221875             45.19215   \n",
       "\n",
       "   2021-03-25 00:00:00  2021-03-26 00:00:00  2021-03-29 00:00:00  \\\n",
       "0            56.050000            56.830000            56.200000   \n",
       "1            22.770000            22.930000            22.910000   \n",
       "2            67.750000            68.320000            67.500000   \n",
       "3            19.640000            19.690000            19.590000   \n",
       "4            46.579324            47.223369            46.886484   \n",
       "\n",
       "   2021-03-30 00:00:00  ...  2023-12-18 00:00:00  2023-12-19 00:00:00  \\\n",
       "0            58.210000  ...            42.330000            42.420000   \n",
       "1            24.120000  ...            14.240000            14.300000   \n",
       "2            69.940000  ...            39.270000            40.200000   \n",
       "3            20.570000  ...             5.620000             5.710000   \n",
       "4            48.452009  ...            41.004149            40.974278   \n",
       "\n",
       "   2023-12-20 00:00:00  2023-12-21 00:00:00  2023-12-22 00:00:00  \\\n",
       "0            41.180000            42.580000            42.550000   \n",
       "1            13.980000            14.350000            14.310000   \n",
       "2            40.090000            40.590000            40.680000   \n",
       "3             5.620000             5.730000             5.760000   \n",
       "4            40.167736            40.944406            40.954363   \n",
       "\n",
       "   2023-12-26 00:00:00  2023-12-27 00:00:00  2023-12-28 00:00:00  \\\n",
       "0            42.080000            41.730000            41.970000   \n",
       "1            14.110000            13.990000            13.980000   \n",
       "2            40.160000            39.670000            39.920000   \n",
       "3             5.730000             5.710000             5.780000   \n",
       "4            40.585943            40.416669            40.456498   \n",
       "\n",
       "   2023-12-29 00:00:00  label  \n",
       "0            41.260000      1  \n",
       "1            13.740000      1  \n",
       "2            39.070000      1  \n",
       "3             5.550000      1  \n",
       "4            40.058206      1  \n",
       "\n",
       "[5 rows x 704 columns]"
      ]
     },
     "execution_count": 10,
     "metadata": {},
     "output_type": "execute_result"
    }
   ],
   "source": [
    "data = pd.read_csv('classification_data.csv')\n",
    "data = data.iloc[:, 2:]\n",
    "data.head()"
   ]
  },
  {
   "cell_type": "code",
   "execution_count": 44,
   "id": "5bba4a14",
   "metadata": {},
   "outputs": [],
   "source": [
    "from sktime.datatypes._panel._convert import from_2d_array_to_nested\n",
    "from sklearn.model_selection import train_test_split\n",
    "\n",
    "X = data.iloc[:, :-1]  # Selecting all columns except the last one as features\n",
    "y = data.iloc[:, -1]   # Selecting the last column as the label\n",
    "\n",
    "# convert to sktime format\n",
    "X_nested = from_2d_array_to_nested(X)\n",
    "X_train, X_test, Y_train, Y_test = train_test_split(\n",
    "    X_nested, y, \n",
    "    test_size=0.5,        \n",
    "    random_state=123,      \n",
    "    stratify=y            \n",
    ")"
   ]
  },
  {
   "cell_type": "code",
   "execution_count": 158,
   "id": "ae6871c0",
   "metadata": {
    "ExecuteTime": {
     "end_time": "2021-05-10T00:21:50.513867Z",
     "start_time": "2021-05-10T00:21:50.502894Z"
    },
    "execution": {
     "iopub.execute_input": "2021-04-09T13:56:31.689009Z",
     "iopub.status.busy": "2021-04-09T13:56:31.688545Z",
     "iopub.status.idle": "2021-04-09T13:56:31.690015Z",
     "shell.execute_reply": "2021-04-09T13:56:31.690513Z"
    }
   },
   "outputs": [],
   "source": [
    "from sktime.classification.shapelet_based import ShapeletTransformClassifier\n",
    "from sklearn.model_selection import GridSearchCV\n",
    "from sktime.transformations.panel.shapelet_transform import ShapeletTransform"
   ]
  },
  {
   "cell_type": "markdown",
   "id": "719ab999",
   "metadata": {},
   "source": [
    "### shaplet transform classifier"
   ]
  },
  {
   "cell_type": "code",
   "execution_count": 116,
   "id": "221260f7",
   "metadata": {},
   "outputs": [],
   "source": [
    "time_contract_in_mins = 4\n",
    "\n",
    "st = ShapeletTransformClassifier(\n",
    "    transform_limit_in_minutes=time_contract_in_mins,\n",
    "    n_shapelet_samples=100,\n",
    "    max_shapelets=10,\n",
    "    batch_size=20,\n",
    "    save_transformed_data=True\n",
    ")"
   ]
  },
  {
   "cell_type": "code",
   "execution_count": 117,
   "id": "ea9a6163",
   "metadata": {},
   "outputs": [
    {
     "data": {
      "text/html": [
       "<style>#sk-76775d69-a77d-400c-a082-8ba1a4180c84 {color: black;background-color: white;}#sk-76775d69-a77d-400c-a082-8ba1a4180c84 pre{padding: 0;}#sk-76775d69-a77d-400c-a082-8ba1a4180c84 div.sk-toggleable {background-color: white;}#sk-76775d69-a77d-400c-a082-8ba1a4180c84 label.sk-toggleable__label {cursor: pointer;display: block;width: 100%;margin-bottom: 0;padding: 0.3em;box-sizing: border-box;text-align: center;}#sk-76775d69-a77d-400c-a082-8ba1a4180c84 label.sk-toggleable__label-arrow:before {content: \"▸\";float: left;margin-right: 0.25em;color: #696969;}#sk-76775d69-a77d-400c-a082-8ba1a4180c84 label.sk-toggleable__label-arrow:hover:before {color: black;}#sk-76775d69-a77d-400c-a082-8ba1a4180c84 div.sk-estimator:hover label.sk-toggleable__label-arrow:before {color: black;}#sk-76775d69-a77d-400c-a082-8ba1a4180c84 div.sk-toggleable__content {max-height: 0;max-width: 0;overflow: hidden;text-align: left;background-color: #f0f8ff;}#sk-76775d69-a77d-400c-a082-8ba1a4180c84 div.sk-toggleable__content pre {margin: 0.2em;color: black;border-radius: 0.25em;background-color: #f0f8ff;}#sk-76775d69-a77d-400c-a082-8ba1a4180c84 input.sk-toggleable__control:checked~div.sk-toggleable__content {max-height: 200px;max-width: 100%;overflow: auto;}#sk-76775d69-a77d-400c-a082-8ba1a4180c84 input.sk-toggleable__control:checked~label.sk-toggleable__label-arrow:before {content: \"▾\";}#sk-76775d69-a77d-400c-a082-8ba1a4180c84 div.sk-estimator input.sk-toggleable__control:checked~label.sk-toggleable__label {background-color: #d4ebff;}#sk-76775d69-a77d-400c-a082-8ba1a4180c84 div.sk-label input.sk-toggleable__control:checked~label.sk-toggleable__label {background-color: #d4ebff;}#sk-76775d69-a77d-400c-a082-8ba1a4180c84 input.sk-hidden--visually {border: 0;clip: rect(1px 1px 1px 1px);clip: rect(1px, 1px, 1px, 1px);height: 1px;margin: -1px;overflow: hidden;padding: 0;position: absolute;width: 1px;}#sk-76775d69-a77d-400c-a082-8ba1a4180c84 div.sk-estimator {font-family: monospace;background-color: #f0f8ff;border: 1px dotted black;border-radius: 0.25em;box-sizing: border-box;margin-bottom: 0.5em;}#sk-76775d69-a77d-400c-a082-8ba1a4180c84 div.sk-estimator:hover {background-color: #d4ebff;}#sk-76775d69-a77d-400c-a082-8ba1a4180c84 div.sk-parallel-item::after {content: \"\";width: 100%;border-bottom: 1px solid gray;flex-grow: 1;}#sk-76775d69-a77d-400c-a082-8ba1a4180c84 div.sk-label:hover label.sk-toggleable__label {background-color: #d4ebff;}#sk-76775d69-a77d-400c-a082-8ba1a4180c84 div.sk-serial::before {content: \"\";position: absolute;border-left: 1px solid gray;box-sizing: border-box;top: 2em;bottom: 0;left: 50%;}#sk-76775d69-a77d-400c-a082-8ba1a4180c84 div.sk-serial {display: flex;flex-direction: column;align-items: center;background-color: white;padding-right: 0.2em;padding-left: 0.2em;}#sk-76775d69-a77d-400c-a082-8ba1a4180c84 div.sk-item {z-index: 1;}#sk-76775d69-a77d-400c-a082-8ba1a4180c84 div.sk-parallel {display: flex;align-items: stretch;justify-content: center;background-color: white;}#sk-76775d69-a77d-400c-a082-8ba1a4180c84 div.sk-parallel::before {content: \"\";position: absolute;border-left: 1px solid gray;box-sizing: border-box;top: 2em;bottom: 0;left: 50%;}#sk-76775d69-a77d-400c-a082-8ba1a4180c84 div.sk-parallel-item {display: flex;flex-direction: column;position: relative;background-color: white;}#sk-76775d69-a77d-400c-a082-8ba1a4180c84 div.sk-parallel-item:first-child::after {align-self: flex-end;width: 50%;}#sk-76775d69-a77d-400c-a082-8ba1a4180c84 div.sk-parallel-item:last-child::after {align-self: flex-start;width: 50%;}#sk-76775d69-a77d-400c-a082-8ba1a4180c84 div.sk-parallel-item:only-child::after {width: 0;}#sk-76775d69-a77d-400c-a082-8ba1a4180c84 div.sk-dashed-wrapped {border: 1px dashed gray;margin: 0 0.4em 0.5em 0.4em;box-sizing: border-box;padding-bottom: 0.4em;background-color: white;position: relative;}#sk-76775d69-a77d-400c-a082-8ba1a4180c84 div.sk-label label {font-family: monospace;font-weight: bold;background-color: white;display: inline-block;line-height: 1.2em;}#sk-76775d69-a77d-400c-a082-8ba1a4180c84 div.sk-label-container {position: relative;z-index: 2;text-align: center;}#sk-76775d69-a77d-400c-a082-8ba1a4180c84 div.sk-container {/* jupyter's `normalize.less` sets `[hidden] { display: none; }` but bootstrap.min.css set `[hidden] { display: none !important; }` so we also need the `!important` here to be able to override the default hidden behavior on the sphinx rendered scikit-learn.org. See: https://github.com/scikit-learn/scikit-learn/issues/21755 */display: inline-block !important;position: relative;}#sk-76775d69-a77d-400c-a082-8ba1a4180c84 div.sk-text-repr-fallback {display: none;}</style><div id='sk-76775d69-a77d-400c-a082-8ba1a4180c84' class=\"sk-top-container\"><div class=\"sk-text-repr-fallback\"><pre>ShapeletTransformClassifier(batch_size=20, max_shapelets=10,\n",
       "                            n_shapelet_samples=100, save_transformed_data=True,\n",
       "                            transform_limit_in_minutes=4)</pre><b>Please rerun this cell to show the HTML repr or trust the notebook.</b></div><div class=\"sk-container\" hidden><div class='sk-item'><div class=\"sk-estimator sk-toggleable\"><input class=\"sk-toggleable__control sk-hidden--visually\" id=UUID('53945719-40f7-4c1f-92fa-a679325a3986') type=\"checkbox\" checked><label for=UUID('53945719-40f7-4c1f-92fa-a679325a3986') class='sk-toggleable__label sk-toggleable__label-arrow'>ShapeletTransformClassifier</label><div class=\"sk-toggleable__content\"><pre>ShapeletTransformClassifier(batch_size=20, max_shapelets=10,\n",
       "                            n_shapelet_samples=100, save_transformed_data=True,\n",
       "                            transform_limit_in_minutes=4)</pre></div></div></div></div></div>"
      ],
      "text/plain": [
       "ShapeletTransformClassifier(batch_size=20, max_shapelets=10,\n",
       "                            n_shapelet_samples=100, save_transformed_data=True,\n",
       "                            transform_limit_in_minutes=4)"
      ]
     },
     "execution_count": 117,
     "metadata": {},
     "output_type": "execute_result"
    }
   ],
   "source": [
    "st.fit(X_train, Y_train)"
   ]
  },
  {
   "cell_type": "code",
   "execution_count": 118,
   "id": "6157c017",
   "metadata": {},
   "outputs": [
    {
     "data": {
      "text/plain": [
       "0.7666666666666667"
      ]
     },
     "execution_count": 118,
     "metadata": {},
     "output_type": "execute_result"
    }
   ],
   "source": [
    "st.score(X_test, Y_test)"
   ]
  },
  {
   "cell_type": "code",
   "execution_count": 119,
   "id": "4e2b2cd5",
   "metadata": {},
   "outputs": [
    {
     "name": "stdout",
     "output_type": "stream",
     "text": [
      "[[8 1 1]\n",
      " [1 8 1]\n",
      " [1 2 7]]\n"
     ]
    }
   ],
   "source": [
    "from sklearn.metrics import classification_report, confusion_matrix\n",
    "\n",
    "print( confusion_matrix(Y_test, st.predict(X_test)) )"
   ]
  },
  {
   "cell_type": "code",
   "execution_count": 120,
   "id": "d4652a36",
   "metadata": {},
   "outputs": [
    {
     "name": "stdout",
     "output_type": "stream",
     "text": [
      "              precision    recall  f1-score   support\n",
      "\n",
      "           1       0.80      0.80      0.80        10\n",
      "           2       0.73      0.80      0.76        10\n",
      "           3       0.78      0.70      0.74        10\n",
      "\n",
      "    accuracy                           0.77        30\n",
      "   macro avg       0.77      0.77      0.77        30\n",
      "weighted avg       0.77      0.77      0.77        30\n",
      "\n"
     ]
    }
   ],
   "source": [
    "print( classification_report(Y_test, st.predict(X_test)) )"
   ]
  },
  {
   "cell_type": "code",
   "execution_count": 68,
   "id": "522033f2",
   "metadata": {},
   "outputs": [],
   "source": [
    "time_contract_in_mins = 4\n",
    "\n",
    "st1 = ShapeletTransformClassifier(\n",
    "    transform_limit_in_minutes=time_contract_in_mins,\n",
    "    n_shapelet_samples=50,\n",
    "    max_shapelets=10,\n",
    "    batch_size=20,\n",
    "    save_transformed_data=True\n",
    ")"
   ]
  },
  {
   "cell_type": "code",
   "execution_count": 69,
   "id": "8e81bb7e",
   "metadata": {},
   "outputs": [
    {
     "data": {
      "text/html": [
       "<style>#sk-70883a58-be20-434d-9855-15eb72f40866 {color: black;background-color: white;}#sk-70883a58-be20-434d-9855-15eb72f40866 pre{padding: 0;}#sk-70883a58-be20-434d-9855-15eb72f40866 div.sk-toggleable {background-color: white;}#sk-70883a58-be20-434d-9855-15eb72f40866 label.sk-toggleable__label {cursor: pointer;display: block;width: 100%;margin-bottom: 0;padding: 0.3em;box-sizing: border-box;text-align: center;}#sk-70883a58-be20-434d-9855-15eb72f40866 label.sk-toggleable__label-arrow:before {content: \"▸\";float: left;margin-right: 0.25em;color: #696969;}#sk-70883a58-be20-434d-9855-15eb72f40866 label.sk-toggleable__label-arrow:hover:before {color: black;}#sk-70883a58-be20-434d-9855-15eb72f40866 div.sk-estimator:hover label.sk-toggleable__label-arrow:before {color: black;}#sk-70883a58-be20-434d-9855-15eb72f40866 div.sk-toggleable__content {max-height: 0;max-width: 0;overflow: hidden;text-align: left;background-color: #f0f8ff;}#sk-70883a58-be20-434d-9855-15eb72f40866 div.sk-toggleable__content pre {margin: 0.2em;color: black;border-radius: 0.25em;background-color: #f0f8ff;}#sk-70883a58-be20-434d-9855-15eb72f40866 input.sk-toggleable__control:checked~div.sk-toggleable__content {max-height: 200px;max-width: 100%;overflow: auto;}#sk-70883a58-be20-434d-9855-15eb72f40866 input.sk-toggleable__control:checked~label.sk-toggleable__label-arrow:before {content: \"▾\";}#sk-70883a58-be20-434d-9855-15eb72f40866 div.sk-estimator input.sk-toggleable__control:checked~label.sk-toggleable__label {background-color: #d4ebff;}#sk-70883a58-be20-434d-9855-15eb72f40866 div.sk-label input.sk-toggleable__control:checked~label.sk-toggleable__label {background-color: #d4ebff;}#sk-70883a58-be20-434d-9855-15eb72f40866 input.sk-hidden--visually {border: 0;clip: rect(1px 1px 1px 1px);clip: rect(1px, 1px, 1px, 1px);height: 1px;margin: -1px;overflow: hidden;padding: 0;position: absolute;width: 1px;}#sk-70883a58-be20-434d-9855-15eb72f40866 div.sk-estimator {font-family: monospace;background-color: #f0f8ff;border: 1px dotted black;border-radius: 0.25em;box-sizing: border-box;margin-bottom: 0.5em;}#sk-70883a58-be20-434d-9855-15eb72f40866 div.sk-estimator:hover {background-color: #d4ebff;}#sk-70883a58-be20-434d-9855-15eb72f40866 div.sk-parallel-item::after {content: \"\";width: 100%;border-bottom: 1px solid gray;flex-grow: 1;}#sk-70883a58-be20-434d-9855-15eb72f40866 div.sk-label:hover label.sk-toggleable__label {background-color: #d4ebff;}#sk-70883a58-be20-434d-9855-15eb72f40866 div.sk-serial::before {content: \"\";position: absolute;border-left: 1px solid gray;box-sizing: border-box;top: 2em;bottom: 0;left: 50%;}#sk-70883a58-be20-434d-9855-15eb72f40866 div.sk-serial {display: flex;flex-direction: column;align-items: center;background-color: white;padding-right: 0.2em;padding-left: 0.2em;}#sk-70883a58-be20-434d-9855-15eb72f40866 div.sk-item {z-index: 1;}#sk-70883a58-be20-434d-9855-15eb72f40866 div.sk-parallel {display: flex;align-items: stretch;justify-content: center;background-color: white;}#sk-70883a58-be20-434d-9855-15eb72f40866 div.sk-parallel::before {content: \"\";position: absolute;border-left: 1px solid gray;box-sizing: border-box;top: 2em;bottom: 0;left: 50%;}#sk-70883a58-be20-434d-9855-15eb72f40866 div.sk-parallel-item {display: flex;flex-direction: column;position: relative;background-color: white;}#sk-70883a58-be20-434d-9855-15eb72f40866 div.sk-parallel-item:first-child::after {align-self: flex-end;width: 50%;}#sk-70883a58-be20-434d-9855-15eb72f40866 div.sk-parallel-item:last-child::after {align-self: flex-start;width: 50%;}#sk-70883a58-be20-434d-9855-15eb72f40866 div.sk-parallel-item:only-child::after {width: 0;}#sk-70883a58-be20-434d-9855-15eb72f40866 div.sk-dashed-wrapped {border: 1px dashed gray;margin: 0 0.4em 0.5em 0.4em;box-sizing: border-box;padding-bottom: 0.4em;background-color: white;position: relative;}#sk-70883a58-be20-434d-9855-15eb72f40866 div.sk-label label {font-family: monospace;font-weight: bold;background-color: white;display: inline-block;line-height: 1.2em;}#sk-70883a58-be20-434d-9855-15eb72f40866 div.sk-label-container {position: relative;z-index: 2;text-align: center;}#sk-70883a58-be20-434d-9855-15eb72f40866 div.sk-container {/* jupyter's `normalize.less` sets `[hidden] { display: none; }` but bootstrap.min.css set `[hidden] { display: none !important; }` so we also need the `!important` here to be able to override the default hidden behavior on the sphinx rendered scikit-learn.org. See: https://github.com/scikit-learn/scikit-learn/issues/21755 */display: inline-block !important;position: relative;}#sk-70883a58-be20-434d-9855-15eb72f40866 div.sk-text-repr-fallback {display: none;}</style><div id='sk-70883a58-be20-434d-9855-15eb72f40866' class=\"sk-top-container\"><div class=\"sk-text-repr-fallback\"><pre>ShapeletTransformClassifier(batch_size=20, max_shapelets=10,\n",
       "                            n_shapelet_samples=50, save_transformed_data=True,\n",
       "                            transform_limit_in_minutes=4)</pre><b>Please rerun this cell to show the HTML repr or trust the notebook.</b></div><div class=\"sk-container\" hidden><div class='sk-item'><div class=\"sk-estimator sk-toggleable\"><input class=\"sk-toggleable__control sk-hidden--visually\" id=UUID('85a7d91e-db2f-488c-8414-d1e853c92d25') type=\"checkbox\" checked><label for=UUID('85a7d91e-db2f-488c-8414-d1e853c92d25') class='sk-toggleable__label sk-toggleable__label-arrow'>ShapeletTransformClassifier</label><div class=\"sk-toggleable__content\"><pre>ShapeletTransformClassifier(batch_size=20, max_shapelets=10,\n",
       "                            n_shapelet_samples=50, save_transformed_data=True,\n",
       "                            transform_limit_in_minutes=4)</pre></div></div></div></div></div>"
      ],
      "text/plain": [
       "ShapeletTransformClassifier(batch_size=20, max_shapelets=10,\n",
       "                            n_shapelet_samples=50, save_transformed_data=True,\n",
       "                            transform_limit_in_minutes=4)"
      ]
     },
     "execution_count": 69,
     "metadata": {},
     "output_type": "execute_result"
    }
   ],
   "source": [
    "st1.fit(X_train, Y_train)"
   ]
  },
  {
   "cell_type": "code",
   "execution_count": 121,
   "id": "26191372",
   "metadata": {},
   "outputs": [
    {
     "data": {
      "text/plain": [
       "0.8"
      ]
     },
     "execution_count": 121,
     "metadata": {},
     "output_type": "execute_result"
    }
   ],
   "source": [
    "st1.score(X_test, Y_test)"
   ]
  },
  {
   "cell_type": "code",
   "execution_count": 71,
   "id": "398d69ee",
   "metadata": {},
   "outputs": [
    {
     "name": "stdout",
     "output_type": "stream",
     "text": [
      "[[7 1 2]\n",
      " [0 8 2]\n",
      " [0 1 9]]\n"
     ]
    }
   ],
   "source": [
    "print( confusion_matrix(Y_test, st1.predict(X_test)) )"
   ]
  },
  {
   "cell_type": "code",
   "execution_count": 122,
   "id": "8abe76cb",
   "metadata": {},
   "outputs": [
    {
     "name": "stdout",
     "output_type": "stream",
     "text": [
      "              precision    recall  f1-score   support\n",
      "\n",
      "           1       1.00      0.70      0.82        10\n",
      "           2       0.80      0.80      0.80        10\n",
      "           3       0.69      0.90      0.78        10\n",
      "\n",
      "    accuracy                           0.80        30\n",
      "   macro avg       0.83      0.80      0.80        30\n",
      "weighted avg       0.83      0.80      0.80        30\n",
      "\n"
     ]
    }
   ],
   "source": [
    "print( classification_report(Y_test, st1.predict(X_test)) )"
   ]
  },
  {
   "cell_type": "code",
   "execution_count": 72,
   "id": "9415412a",
   "metadata": {},
   "outputs": [],
   "source": [
    "time_contract_in_mins = 4\n",
    "\n",
    "st2 = ShapeletTransformClassifier(\n",
    "    transform_limit_in_minutes=time_contract_in_mins,\n",
    "    n_shapelet_samples=50,\n",
    "    max_shapelets=15,\n",
    "    batch_size=20,\n",
    "    save_transformed_data=True\n",
    ")"
   ]
  },
  {
   "cell_type": "code",
   "execution_count": 73,
   "id": "11f79da2",
   "metadata": {},
   "outputs": [
    {
     "data": {
      "text/html": [
       "<style>#sk-f9338135-85ef-4215-93e6-959ec09d4791 {color: black;background-color: white;}#sk-f9338135-85ef-4215-93e6-959ec09d4791 pre{padding: 0;}#sk-f9338135-85ef-4215-93e6-959ec09d4791 div.sk-toggleable {background-color: white;}#sk-f9338135-85ef-4215-93e6-959ec09d4791 label.sk-toggleable__label {cursor: pointer;display: block;width: 100%;margin-bottom: 0;padding: 0.3em;box-sizing: border-box;text-align: center;}#sk-f9338135-85ef-4215-93e6-959ec09d4791 label.sk-toggleable__label-arrow:before {content: \"▸\";float: left;margin-right: 0.25em;color: #696969;}#sk-f9338135-85ef-4215-93e6-959ec09d4791 label.sk-toggleable__label-arrow:hover:before {color: black;}#sk-f9338135-85ef-4215-93e6-959ec09d4791 div.sk-estimator:hover label.sk-toggleable__label-arrow:before {color: black;}#sk-f9338135-85ef-4215-93e6-959ec09d4791 div.sk-toggleable__content {max-height: 0;max-width: 0;overflow: hidden;text-align: left;background-color: #f0f8ff;}#sk-f9338135-85ef-4215-93e6-959ec09d4791 div.sk-toggleable__content pre {margin: 0.2em;color: black;border-radius: 0.25em;background-color: #f0f8ff;}#sk-f9338135-85ef-4215-93e6-959ec09d4791 input.sk-toggleable__control:checked~div.sk-toggleable__content {max-height: 200px;max-width: 100%;overflow: auto;}#sk-f9338135-85ef-4215-93e6-959ec09d4791 input.sk-toggleable__control:checked~label.sk-toggleable__label-arrow:before {content: \"▾\";}#sk-f9338135-85ef-4215-93e6-959ec09d4791 div.sk-estimator input.sk-toggleable__control:checked~label.sk-toggleable__label {background-color: #d4ebff;}#sk-f9338135-85ef-4215-93e6-959ec09d4791 div.sk-label input.sk-toggleable__control:checked~label.sk-toggleable__label {background-color: #d4ebff;}#sk-f9338135-85ef-4215-93e6-959ec09d4791 input.sk-hidden--visually {border: 0;clip: rect(1px 1px 1px 1px);clip: rect(1px, 1px, 1px, 1px);height: 1px;margin: -1px;overflow: hidden;padding: 0;position: absolute;width: 1px;}#sk-f9338135-85ef-4215-93e6-959ec09d4791 div.sk-estimator {font-family: monospace;background-color: #f0f8ff;border: 1px dotted black;border-radius: 0.25em;box-sizing: border-box;margin-bottom: 0.5em;}#sk-f9338135-85ef-4215-93e6-959ec09d4791 div.sk-estimator:hover {background-color: #d4ebff;}#sk-f9338135-85ef-4215-93e6-959ec09d4791 div.sk-parallel-item::after {content: \"\";width: 100%;border-bottom: 1px solid gray;flex-grow: 1;}#sk-f9338135-85ef-4215-93e6-959ec09d4791 div.sk-label:hover label.sk-toggleable__label {background-color: #d4ebff;}#sk-f9338135-85ef-4215-93e6-959ec09d4791 div.sk-serial::before {content: \"\";position: absolute;border-left: 1px solid gray;box-sizing: border-box;top: 2em;bottom: 0;left: 50%;}#sk-f9338135-85ef-4215-93e6-959ec09d4791 div.sk-serial {display: flex;flex-direction: column;align-items: center;background-color: white;padding-right: 0.2em;padding-left: 0.2em;}#sk-f9338135-85ef-4215-93e6-959ec09d4791 div.sk-item {z-index: 1;}#sk-f9338135-85ef-4215-93e6-959ec09d4791 div.sk-parallel {display: flex;align-items: stretch;justify-content: center;background-color: white;}#sk-f9338135-85ef-4215-93e6-959ec09d4791 div.sk-parallel::before {content: \"\";position: absolute;border-left: 1px solid gray;box-sizing: border-box;top: 2em;bottom: 0;left: 50%;}#sk-f9338135-85ef-4215-93e6-959ec09d4791 div.sk-parallel-item {display: flex;flex-direction: column;position: relative;background-color: white;}#sk-f9338135-85ef-4215-93e6-959ec09d4791 div.sk-parallel-item:first-child::after {align-self: flex-end;width: 50%;}#sk-f9338135-85ef-4215-93e6-959ec09d4791 div.sk-parallel-item:last-child::after {align-self: flex-start;width: 50%;}#sk-f9338135-85ef-4215-93e6-959ec09d4791 div.sk-parallel-item:only-child::after {width: 0;}#sk-f9338135-85ef-4215-93e6-959ec09d4791 div.sk-dashed-wrapped {border: 1px dashed gray;margin: 0 0.4em 0.5em 0.4em;box-sizing: border-box;padding-bottom: 0.4em;background-color: white;position: relative;}#sk-f9338135-85ef-4215-93e6-959ec09d4791 div.sk-label label {font-family: monospace;font-weight: bold;background-color: white;display: inline-block;line-height: 1.2em;}#sk-f9338135-85ef-4215-93e6-959ec09d4791 div.sk-label-container {position: relative;z-index: 2;text-align: center;}#sk-f9338135-85ef-4215-93e6-959ec09d4791 div.sk-container {/* jupyter's `normalize.less` sets `[hidden] { display: none; }` but bootstrap.min.css set `[hidden] { display: none !important; }` so we also need the `!important` here to be able to override the default hidden behavior on the sphinx rendered scikit-learn.org. See: https://github.com/scikit-learn/scikit-learn/issues/21755 */display: inline-block !important;position: relative;}#sk-f9338135-85ef-4215-93e6-959ec09d4791 div.sk-text-repr-fallback {display: none;}</style><div id='sk-f9338135-85ef-4215-93e6-959ec09d4791' class=\"sk-top-container\"><div class=\"sk-text-repr-fallback\"><pre>ShapeletTransformClassifier(batch_size=20, max_shapelets=15,\n",
       "                            n_shapelet_samples=50, save_transformed_data=True,\n",
       "                            transform_limit_in_minutes=4)</pre><b>Please rerun this cell to show the HTML repr or trust the notebook.</b></div><div class=\"sk-container\" hidden><div class='sk-item'><div class=\"sk-estimator sk-toggleable\"><input class=\"sk-toggleable__control sk-hidden--visually\" id=UUID('d830f2aa-25a8-485a-962c-3297e886c7a5') type=\"checkbox\" checked><label for=UUID('d830f2aa-25a8-485a-962c-3297e886c7a5') class='sk-toggleable__label sk-toggleable__label-arrow'>ShapeletTransformClassifier</label><div class=\"sk-toggleable__content\"><pre>ShapeletTransformClassifier(batch_size=20, max_shapelets=15,\n",
       "                            n_shapelet_samples=50, save_transformed_data=True,\n",
       "                            transform_limit_in_minutes=4)</pre></div></div></div></div></div>"
      ],
      "text/plain": [
       "ShapeletTransformClassifier(batch_size=20, max_shapelets=15,\n",
       "                            n_shapelet_samples=50, save_transformed_data=True,\n",
       "                            transform_limit_in_minutes=4)"
      ]
     },
     "execution_count": 73,
     "metadata": {},
     "output_type": "execute_result"
    }
   ],
   "source": [
    "st2.fit(X_train, Y_train)"
   ]
  },
  {
   "cell_type": "code",
   "execution_count": 74,
   "id": "a598e185",
   "metadata": {},
   "outputs": [
    {
     "data": {
      "text/plain": [
       "0.8"
      ]
     },
     "execution_count": 74,
     "metadata": {},
     "output_type": "execute_result"
    }
   ],
   "source": [
    "st2.score(X_test, Y_test)"
   ]
  },
  {
   "cell_type": "code",
   "execution_count": 75,
   "id": "07aa6a4f",
   "metadata": {},
   "outputs": [
    {
     "name": "stdout",
     "output_type": "stream",
     "text": [
      "[[8 1 1]\n",
      " [0 8 2]\n",
      " [1 1 8]]\n"
     ]
    }
   ],
   "source": [
    "print( confusion_matrix(Y_test, st2.predict(X_test)) )"
   ]
  },
  {
   "cell_type": "code",
   "execution_count": 123,
   "id": "626d64ba",
   "metadata": {},
   "outputs": [
    {
     "name": "stdout",
     "output_type": "stream",
     "text": [
      "              precision    recall  f1-score   support\n",
      "\n",
      "           1       0.89      0.80      0.84        10\n",
      "           2       0.80      0.80      0.80        10\n",
      "           3       0.73      0.80      0.76        10\n",
      "\n",
      "    accuracy                           0.80        30\n",
      "   macro avg       0.81      0.80      0.80        30\n",
      "weighted avg       0.81      0.80      0.80        30\n",
      "\n"
     ]
    }
   ],
   "source": [
    "print( classification_report(Y_test, st2.predict(X_test)) )"
   ]
  },
  {
   "cell_type": "markdown",
   "id": "3ac11faa",
   "metadata": {},
   "source": [
    "### rocket"
   ]
  },
  {
   "cell_type": "code",
   "execution_count": 52,
   "id": "f32d0079",
   "metadata": {},
   "outputs": [],
   "source": [
    "from sklearn.linear_model import RidgeClassifierCV #user ridge for smaller sample\n",
    "from sktime.transformations.panel.rocket import Rocket"
   ]
  },
  {
   "cell_type": "code",
   "execution_count": 124,
   "id": "fbada926",
   "metadata": {},
   "outputs": [
    {
     "data": {
      "text/plain": [
       "(30, 20000)"
      ]
     },
     "execution_count": 124,
     "metadata": {},
     "output_type": "execute_result"
    }
   ],
   "source": [
    "rocket = Rocket()  # by default, ROCKET uses 10,000 kernels\n",
    "rocket.fit(X_train)\n",
    "X_train_transform = rocket.transform(X_train)\n",
    "X_train_transform.shape"
   ]
  },
  {
   "cell_type": "code",
   "execution_count": 125,
   "id": "a33d24e7",
   "metadata": {},
   "outputs": [
    {
     "data": {
      "text/html": [
       "<div>\n",
       "<style scoped>\n",
       "    .dataframe tbody tr th:only-of-type {\n",
       "        vertical-align: middle;\n",
       "    }\n",
       "\n",
       "    .dataframe tbody tr th {\n",
       "        vertical-align: top;\n",
       "    }\n",
       "\n",
       "    .dataframe thead th {\n",
       "        text-align: right;\n",
       "    }\n",
       "</style>\n",
       "<table border=\"1\" class=\"dataframe\">\n",
       "  <thead>\n",
       "    <tr style=\"text-align: right;\">\n",
       "      <th></th>\n",
       "      <th>0</th>\n",
       "      <th>1</th>\n",
       "      <th>2</th>\n",
       "      <th>3</th>\n",
       "      <th>4</th>\n",
       "      <th>5</th>\n",
       "      <th>6</th>\n",
       "      <th>7</th>\n",
       "      <th>8</th>\n",
       "      <th>9</th>\n",
       "      <th>...</th>\n",
       "      <th>19990</th>\n",
       "      <th>19991</th>\n",
       "      <th>19992</th>\n",
       "      <th>19993</th>\n",
       "      <th>19994</th>\n",
       "      <th>19995</th>\n",
       "      <th>19996</th>\n",
       "      <th>19997</th>\n",
       "      <th>19998</th>\n",
       "      <th>19999</th>\n",
       "    </tr>\n",
       "  </thead>\n",
       "  <tbody>\n",
       "    <tr>\n",
       "      <th>0</th>\n",
       "      <td>0.844720</td>\n",
       "      <td>3.246698</td>\n",
       "      <td>0.513514</td>\n",
       "      <td>3.178449</td>\n",
       "      <td>0.000000</td>\n",
       "      <td>-0.273469</td>\n",
       "      <td>0.711238</td>\n",
       "      <td>7.377932</td>\n",
       "      <td>0.828054</td>\n",
       "      <td>4.040874</td>\n",
       "      <td>...</td>\n",
       "      <td>0.348506</td>\n",
       "      <td>4.455694</td>\n",
       "      <td>0.426009</td>\n",
       "      <td>2.326213</td>\n",
       "      <td>0.971551</td>\n",
       "      <td>1.310455</td>\n",
       "      <td>0.818182</td>\n",
       "      <td>8.271099</td>\n",
       "      <td>0.977240</td>\n",
       "      <td>1.780710</td>\n",
       "    </tr>\n",
       "    <tr>\n",
       "      <th>1</th>\n",
       "      <td>0.627329</td>\n",
       "      <td>4.770363</td>\n",
       "      <td>0.486486</td>\n",
       "      <td>4.430501</td>\n",
       "      <td>0.007236</td>\n",
       "      <td>0.377875</td>\n",
       "      <td>0.685633</td>\n",
       "      <td>5.013644</td>\n",
       "      <td>0.650075</td>\n",
       "      <td>4.914783</td>\n",
       "      <td>...</td>\n",
       "      <td>0.456615</td>\n",
       "      <td>3.284742</td>\n",
       "      <td>0.430493</td>\n",
       "      <td>4.009915</td>\n",
       "      <td>0.953058</td>\n",
       "      <td>1.618592</td>\n",
       "      <td>0.673219</td>\n",
       "      <td>9.676961</td>\n",
       "      <td>0.953058</td>\n",
       "      <td>1.557904</td>\n",
       "    </tr>\n",
       "    <tr>\n",
       "      <th>2</th>\n",
       "      <td>0.538302</td>\n",
       "      <td>6.353869</td>\n",
       "      <td>0.489331</td>\n",
       "      <td>3.909499</td>\n",
       "      <td>0.054993</td>\n",
       "      <td>1.023528</td>\n",
       "      <td>0.628734</td>\n",
       "      <td>8.407527</td>\n",
       "      <td>0.641026</td>\n",
       "      <td>8.563477</td>\n",
       "      <td>...</td>\n",
       "      <td>0.509246</td>\n",
       "      <td>6.213987</td>\n",
       "      <td>0.591928</td>\n",
       "      <td>2.721705</td>\n",
       "      <td>0.844950</td>\n",
       "      <td>3.399629</td>\n",
       "      <td>0.638821</td>\n",
       "      <td>11.845422</td>\n",
       "      <td>0.862020</td>\n",
       "      <td>2.632963</td>\n",
       "    </tr>\n",
       "    <tr>\n",
       "      <th>3</th>\n",
       "      <td>0.842650</td>\n",
       "      <td>4.138290</td>\n",
       "      <td>0.644381</td>\n",
       "      <td>3.966517</td>\n",
       "      <td>0.005789</td>\n",
       "      <td>0.288490</td>\n",
       "      <td>0.650071</td>\n",
       "      <td>4.763257</td>\n",
       "      <td>0.696833</td>\n",
       "      <td>4.765262</td>\n",
       "      <td>...</td>\n",
       "      <td>0.422475</td>\n",
       "      <td>2.915008</td>\n",
       "      <td>0.309417</td>\n",
       "      <td>3.136309</td>\n",
       "      <td>0.964438</td>\n",
       "      <td>1.851329</td>\n",
       "      <td>0.778870</td>\n",
       "      <td>8.863211</td>\n",
       "      <td>0.981508</td>\n",
       "      <td>1.580867</td>\n",
       "    </tr>\n",
       "    <tr>\n",
       "      <th>4</th>\n",
       "      <td>0.451346</td>\n",
       "      <td>4.145036</td>\n",
       "      <td>0.482219</td>\n",
       "      <td>3.579683</td>\n",
       "      <td>0.030391</td>\n",
       "      <td>0.512201</td>\n",
       "      <td>0.684211</td>\n",
       "      <td>5.928728</td>\n",
       "      <td>0.574661</td>\n",
       "      <td>8.825341</td>\n",
       "      <td>...</td>\n",
       "      <td>0.499289</td>\n",
       "      <td>4.905119</td>\n",
       "      <td>0.484305</td>\n",
       "      <td>4.235130</td>\n",
       "      <td>0.889047</td>\n",
       "      <td>1.753507</td>\n",
       "      <td>0.420147</td>\n",
       "      <td>10.931785</td>\n",
       "      <td>0.926031</td>\n",
       "      <td>1.967655</td>\n",
       "    </tr>\n",
       "  </tbody>\n",
       "</table>\n",
       "<p>5 rows × 20000 columns</p>\n",
       "</div>"
      ],
      "text/plain": [
       "      0         1         2         3         4         5         6      \\\n",
       "0  0.844720  3.246698  0.513514  3.178449  0.000000 -0.273469  0.711238   \n",
       "1  0.627329  4.770363  0.486486  4.430501  0.007236  0.377875  0.685633   \n",
       "2  0.538302  6.353869  0.489331  3.909499  0.054993  1.023528  0.628734   \n",
       "3  0.842650  4.138290  0.644381  3.966517  0.005789  0.288490  0.650071   \n",
       "4  0.451346  4.145036  0.482219  3.579683  0.030391  0.512201  0.684211   \n",
       "\n",
       "      7         8         9      ...     19990     19991     19992     19993  \\\n",
       "0  7.377932  0.828054  4.040874  ...  0.348506  4.455694  0.426009  2.326213   \n",
       "1  5.013644  0.650075  4.914783  ...  0.456615  3.284742  0.430493  4.009915   \n",
       "2  8.407527  0.641026  8.563477  ...  0.509246  6.213987  0.591928  2.721705   \n",
       "3  4.763257  0.696833  4.765262  ...  0.422475  2.915008  0.309417  3.136309   \n",
       "4  5.928728  0.574661  8.825341  ...  0.499289  4.905119  0.484305  4.235130   \n",
       "\n",
       "      19994     19995     19996      19997     19998     19999  \n",
       "0  0.971551  1.310455  0.818182   8.271099  0.977240  1.780710  \n",
       "1  0.953058  1.618592  0.673219   9.676961  0.953058  1.557904  \n",
       "2  0.844950  3.399629  0.638821  11.845422  0.862020  2.632963  \n",
       "3  0.964438  1.851329  0.778870   8.863211  0.981508  1.580867  \n",
       "4  0.889047  1.753507  0.420147  10.931785  0.926031  1.967655  \n",
       "\n",
       "[5 rows x 20000 columns]"
      ]
     },
     "execution_count": 125,
     "metadata": {},
     "output_type": "execute_result"
    }
   ],
   "source": [
    "X_train_transform.head()"
   ]
  },
  {
   "cell_type": "code",
   "execution_count": 126,
   "id": "b823061d",
   "metadata": {},
   "outputs": [
    {
     "name": "stdout",
     "output_type": "stream",
     "text": [
      "302 ms ± 8.71 ms per loop (mean ± std. dev. of 7 runs, 10 loops each)\n"
     ]
    }
   ],
   "source": [
    "#normalization = false\n",
    "classifier = RidgeClassifierCV(alphas=np.logspace(-3, 3, 10)) # np.logspace: Return numbers spaced evenly on a log scale\n",
    "%timeit classifier.fit(X_train_transform, Y_train)"
   ]
  },
  {
   "cell_type": "code",
   "execution_count": 127,
   "id": "7acc3207",
   "metadata": {},
   "outputs": [],
   "source": [
    "X_test_transform = rocket.transform(X_test)"
   ]
  },
  {
   "cell_type": "code",
   "execution_count": 128,
   "id": "0f7ad081",
   "metadata": {},
   "outputs": [
    {
     "data": {
      "text/plain": [
       "0.8333333333333334"
      ]
     },
     "execution_count": 128,
     "metadata": {},
     "output_type": "execute_result"
    }
   ],
   "source": [
    "classifier.score(X_test_transform, Y_test)"
   ]
  },
  {
   "cell_type": "code",
   "execution_count": 129,
   "id": "b20fea10",
   "metadata": {},
   "outputs": [
    {
     "name": "stdout",
     "output_type": "stream",
     "text": [
      "[[8 1 1]\n",
      " [1 9 0]\n",
      " [0 2 8]]\n"
     ]
    }
   ],
   "source": [
    "print( confusion_matrix(Y_test, classifier.predict(X_test_transform)) )"
   ]
  },
  {
   "cell_type": "code",
   "execution_count": 133,
   "id": "6905ef36",
   "metadata": {},
   "outputs": [
    {
     "name": "stdout",
     "output_type": "stream",
     "text": [
      "              precision    recall  f1-score   support\n",
      "\n",
      "           1       0.89      0.80      0.84        10\n",
      "           2       0.75      0.90      0.82        10\n",
      "           3       0.89      0.80      0.84        10\n",
      "\n",
      "    accuracy                           0.83        30\n",
      "   macro avg       0.84      0.83      0.83        30\n",
      "weighted avg       0.84      0.83      0.83        30\n",
      "\n"
     ]
    }
   ],
   "source": [
    "print( classification_report(Y_test, classifier.predict(X_test_transform)) )"
   ]
  },
  {
   "cell_type": "code",
   "execution_count": 134,
   "id": "c424176b",
   "metadata": {},
   "outputs": [],
   "source": [
    "#standardization = true\n",
    "from sklearn.preprocessing import StandardScaler\n",
    "scaler = StandardScaler()\n",
    "X_standardized = scaler.fit_transform(X_train_transform)\n",
    "X_train_standardized = pd.DataFrame(X_standardized, columns=X_train_transform.columns)"
   ]
  },
  {
   "cell_type": "code",
   "execution_count": 135,
   "id": "69f91b76",
   "metadata": {},
   "outputs": [
    {
     "name": "stdout",
     "output_type": "stream",
     "text": [
      "315 ms ± 27.4 ms per loop (mean ± std. dev. of 7 runs, 10 loops each)\n"
     ]
    }
   ],
   "source": [
    "classifier_stan = RidgeClassifierCV(alphas=np.logspace(-3, 3, 10)) # np.logspace: Return numbers spaced evenly on a log scale\n",
    "%timeit classifier_stan.fit(X_train_standardized, Y_train)"
   ]
  },
  {
   "cell_type": "code",
   "execution_count": 136,
   "id": "14768daa",
   "metadata": {},
   "outputs": [],
   "source": [
    "X_t_standardized = scaler.transform(X_test_transform)\n",
    "X_test_standardized = pd.DataFrame(X_t_standardized, columns=X_test_transform.columns)"
   ]
  },
  {
   "cell_type": "code",
   "execution_count": 137,
   "id": "b14cea0b",
   "metadata": {},
   "outputs": [
    {
     "data": {
      "text/plain": [
       "0.8666666666666667"
      ]
     },
     "execution_count": 137,
     "metadata": {},
     "output_type": "execute_result"
    }
   ],
   "source": [
    "classifier_stan.score(X_test_standardized, Y_test)"
   ]
  },
  {
   "cell_type": "code",
   "execution_count": 138,
   "id": "60b38714",
   "metadata": {},
   "outputs": [
    {
     "name": "stdout",
     "output_type": "stream",
     "text": [
      "[[8 1 1]\n",
      " [1 9 0]\n",
      " [0 1 9]]\n"
     ]
    }
   ],
   "source": [
    "print( confusion_matrix(Y_test, classifier_stan.predict(X_test_standardized)) )"
   ]
  },
  {
   "cell_type": "code",
   "execution_count": 139,
   "id": "d4d5d0df",
   "metadata": {},
   "outputs": [
    {
     "name": "stdout",
     "output_type": "stream",
     "text": [
      "              precision    recall  f1-score   support\n",
      "\n",
      "           1       0.89      0.80      0.84        10\n",
      "           2       0.82      0.90      0.86        10\n",
      "           3       0.90      0.90      0.90        10\n",
      "\n",
      "    accuracy                           0.87        30\n",
      "   macro avg       0.87      0.87      0.87        30\n",
      "weighted avg       0.87      0.87      0.87        30\n",
      "\n"
     ]
    }
   ],
   "source": [
    "print( classification_report(Y_test, classifier_stan.predict(X_test_standardized)) )"
   ]
  },
  {
   "cell_type": "code",
   "execution_count": 100,
   "id": "a478fbc6",
   "metadata": {},
   "outputs": [],
   "source": [
    "## mini rocket"
   ]
  },
  {
   "cell_type": "code",
   "execution_count": 140,
   "id": "6ec57d45",
   "metadata": {},
   "outputs": [
    {
     "name": "stdout",
     "output_type": "stream",
     "text": [
      "321 ms ± 27 ms per loop (mean ± std. dev. of 7 runs, 10 loops each)\n"
     ]
    }
   ],
   "source": [
    "from sktime.transformations.panel.rocket import MiniRocket\n",
    "minirocket = MiniRocket()  # by default, MiniRocket uses ~10,000 kernels\n",
    "minirocket.fit(X_train)\n",
    "X_train_minitransform = minirocket.transform(X_train)\n",
    "\n",
    "classifier = RidgeClassifierCV(alphas=np.logspace(-3, 3, 10))\n",
    "%timeit classifier.fit(X_train_minitransform, Y_train)"
   ]
  },
  {
   "cell_type": "code",
   "execution_count": 141,
   "id": "a962752d",
   "metadata": {},
   "outputs": [],
   "source": [
    "X_test_minitransform = minirocket.transform(X_test)"
   ]
  },
  {
   "cell_type": "code",
   "execution_count": 142,
   "id": "df7fc577",
   "metadata": {},
   "outputs": [
    {
     "data": {
      "text/plain": [
       "0.7666666666666667"
      ]
     },
     "execution_count": 142,
     "metadata": {},
     "output_type": "execute_result"
    }
   ],
   "source": [
    "classifier.score(X_test_minitransform, Y_test)"
   ]
  },
  {
   "cell_type": "code",
   "execution_count": 143,
   "id": "fe096aad",
   "metadata": {},
   "outputs": [
    {
     "name": "stdout",
     "output_type": "stream",
     "text": [
      "[[7 1 2]\n",
      " [0 9 1]\n",
      " [2 1 7]]\n"
     ]
    }
   ],
   "source": [
    "print( confusion_matrix(Y_test, classifier.predict(X_test_minitransform)) )"
   ]
  },
  {
   "cell_type": "code",
   "execution_count": 144,
   "id": "ada7f026",
   "metadata": {},
   "outputs": [
    {
     "name": "stdout",
     "output_type": "stream",
     "text": [
      "              precision    recall  f1-score   support\n",
      "\n",
      "           1       0.78      0.70      0.74        10\n",
      "           2       0.82      0.90      0.86        10\n",
      "           3       0.70      0.70      0.70        10\n",
      "\n",
      "    accuracy                           0.77        30\n",
      "   macro avg       0.77      0.77      0.76        30\n",
      "weighted avg       0.77      0.77      0.76        30\n",
      "\n"
     ]
    }
   ],
   "source": [
    "print( classification_report(Y_test, classifier.predict(X_test_minitransform)) )"
   ]
  },
  {
   "cell_type": "code",
   "execution_count": 145,
   "id": "af24146e",
   "metadata": {},
   "outputs": [],
   "source": [
    "#standardization = true\n",
    "scaler = StandardScaler()\n",
    "X_standardized = scaler.fit_transform(X_train_minitransform)\n",
    "X_train_standardized = pd.DataFrame(X_standardized, columns=X_train_minitransform.columns)"
   ]
  },
  {
   "cell_type": "code",
   "execution_count": 146,
   "id": "449b4d78",
   "metadata": {},
   "outputs": [
    {
     "name": "stdout",
     "output_type": "stream",
     "text": [
      "278 ms ± 14.1 ms per loop (mean ± std. dev. of 7 runs, 10 loops each)\n"
     ]
    }
   ],
   "source": [
    "classifier_stan = RidgeClassifierCV(alphas=np.logspace(-3, 3, 10)) # np.logspace: Return numbers spaced evenly on a log scale\n",
    "%timeit classifier_stan.fit(X_train_standardized, Y_train)"
   ]
  },
  {
   "cell_type": "code",
   "execution_count": 147,
   "id": "8faa2db6",
   "metadata": {},
   "outputs": [],
   "source": [
    "X_t_standardized = scaler.transform(X_test_minitransform)\n",
    "X_test_standardized = pd.DataFrame(X_t_standardized, columns=X_test_minitransform.columns)"
   ]
  },
  {
   "cell_type": "code",
   "execution_count": 148,
   "id": "296003d5",
   "metadata": {},
   "outputs": [
    {
     "data": {
      "text/plain": [
       "0.8"
      ]
     },
     "execution_count": 148,
     "metadata": {},
     "output_type": "execute_result"
    }
   ],
   "source": [
    "classifier_stan.score(X_test_standardized, Y_test)"
   ]
  },
  {
   "cell_type": "code",
   "execution_count": 149,
   "id": "9a189184",
   "metadata": {},
   "outputs": [
    {
     "name": "stdout",
     "output_type": "stream",
     "text": [
      "[[8 1 1]\n",
      " [0 9 1]\n",
      " [1 2 7]]\n"
     ]
    }
   ],
   "source": [
    "print( confusion_matrix(Y_test, classifier_stan.predict(X_test_standardized)) )"
   ]
  },
  {
   "cell_type": "code",
   "execution_count": 150,
   "id": "e96f84f1",
   "metadata": {},
   "outputs": [
    {
     "name": "stdout",
     "output_type": "stream",
     "text": [
      "              precision    recall  f1-score   support\n",
      "\n",
      "           1       0.89      0.80      0.84        10\n",
      "           2       0.75      0.90      0.82        10\n",
      "           3       0.78      0.70      0.74        10\n",
      "\n",
      "    accuracy                           0.80        30\n",
      "   macro avg       0.81      0.80      0.80        30\n",
      "weighted avg       0.81      0.80      0.80        30\n",
      "\n"
     ]
    }
   ],
   "source": [
    "print( classification_report(Y_test, classifier_stan.predict(X_test_standardized)) )"
   ]
  },
  {
   "cell_type": "code",
   "execution_count": null,
   "id": "97dc4dc8",
   "metadata": {},
   "outputs": [],
   "source": []
  },
  {
   "cell_type": "code",
   "execution_count": null,
   "id": "be96ab7c",
   "metadata": {},
   "outputs": [],
   "source": []
  },
  {
   "cell_type": "code",
   "execution_count": null,
   "id": "eb9eecfb",
   "metadata": {},
   "outputs": [],
   "source": []
  },
  {
   "cell_type": "code",
   "execution_count": null,
   "id": "17bf615f",
   "metadata": {},
   "outputs": [],
   "source": []
  }
 ],
 "metadata": {
  "kernelspec": {
   "display_name": "Python 3 (ipykernel)",
   "language": "python",
   "name": "python3"
  },
  "language_info": {
   "codemirror_mode": {
    "name": "ipython",
    "version": 3
   },
   "file_extension": ".py",
   "mimetype": "text/x-python",
   "name": "python",
   "nbconvert_exporter": "python",
   "pygments_lexer": "ipython3",
   "version": "3.10.13"
  }
 },
 "nbformat": 4,
 "nbformat_minor": 5
}
